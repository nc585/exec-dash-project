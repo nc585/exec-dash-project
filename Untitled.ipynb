{
 "cells": [
  {
   "cell_type": "code",
   "execution_count": 1,
   "metadata": {},
   "outputs": [],
   "source": [
    "import operator\n",
    "import os\n",
    "import pandas as pd\n",
    "import matplotlib.pyplot as plt\n",
    "import matplotlib.ticker as ticker\n"
   ]
  },
  {
   "cell_type": "code",
   "execution_count": 3,
   "metadata": {},
   "outputs": [
    {
     "name": "stdout",
     "output_type": "stream",
     "text": [
      "['sales-201803.csv']\n",
      "Please input the file name from the directory above in the format of sales-YYYYMM.csv: sales-201803\n",
      "We could not find your file. Please enter the exact file name from the directory above.\n",
      "['sales-201803.csv']\n",
      "Please input the file name from the directory above in the format of sales-YYYYMM.csv: sales-201803.csv\n"
     ]
    }
   ],
   "source": [
    "while True:\n",
    "    # notes from: https://github.com/prof-rossetti/georgetown-opim-243-201901/blob/master/notes/python/modules/os.md\n",
    "    print(os.listdir(\"/Users/Nina/Documents/Python/exec-dash-project/data\")) \n",
    "    \n",
    "    # guidance from Hiep\n",
    "    csv_file_name = input(\"Please input the file name from the directory above in the format of sales-YYYYMM.csv: \")\n",
    "    csv_file_path = os.path.join(\"data/\",csv_file_name)     \n",
    "    if not os.path.isfile(csv_file_path):\n",
    "        print(\"We could not find your file. Please enter the exact file name from the directory above.\")\n",
    "    else:\n",
    "        break"
   ]
  },
  {
   "cell_type": "code",
   "execution_count": 4,
   "metadata": {},
   "outputs": [],
   "source": [
    "csv_data = pd.read_csv(csv_file_path)"
   ]
  },
  {
   "cell_type": "code",
   "execution_count": 6,
   "metadata": {},
   "outputs": [],
   "source": [
    "csv_data\n",
    "product_names = csv_data[\"product\"]\n",
    "unique_product_names = product_names.unique()"
   ]
  },
  {
   "cell_type": "code",
   "execution_count": 7,
   "metadata": {},
   "outputs": [
    {
     "data": {
      "text/plain": [
       "array(['Button-Down Shirt', 'Vintage Logo Tee', 'Sticker Pack',\n",
       "       'Super Soft Hoodie', 'Baseball Cap', 'Khaki Pants', 'Brown Boots'],\n",
       "      dtype=object)"
      ]
     },
     "execution_count": 7,
     "metadata": {},
     "output_type": "execute_result"
    }
   ],
   "source": [
    "unique_product_names"
   ]
  },
  {
   "cell_type": "code",
   "execution_count": 11,
   "metadata": {},
   "outputs": [],
   "source": [
    "unique_product_names = unique_product_names.tolist()\n"
   ]
  },
  {
   "cell_type": "code",
   "execution_count": 12,
   "metadata": {},
   "outputs": [
    {
     "data": {
      "text/plain": [
       "['Button-Down Shirt',\n",
       " 'Vintage Logo Tee',\n",
       " 'Sticker Pack',\n",
       " 'Super Soft Hoodie',\n",
       " 'Baseball Cap',\n",
       " 'Khaki Pants',\n",
       " 'Brown Boots']"
      ]
     },
     "execution_count": 12,
     "metadata": {},
     "output_type": "execute_result"
    }
   ],
   "source": [
    "unique_product_names"
   ]
  },
  {
   "cell_type": "code",
   "execution_count": 15,
   "metadata": {},
   "outputs": [],
   "source": [
    "top_sellers = [] \n",
    "for product_name in unique_product_names:\n",
    "    matching_rows = csv_data[csv_data[\"product\"] == product_name]\n",
    "    product_monthly_sales = matching_rows[\"sales price\"].sum()\n",
    "    top_sellers.append({\"name\": product_name, \"monthly_sales\": product_monthly_sales})\n",
    "\n",
    "top_sellers = sorted(top_sellers, key=operator.itemgetter(\"monthly_sales\"), reverse=True)\n"
   ]
  },
  {
   "cell_type": "code",
   "execution_count": 16,
   "metadata": {},
   "outputs": [
    {
     "data": {
      "text/plain": [
       "[{'name': 'Button-Down Shirt', 'monthly_sales': 6960.35},\n",
       " {'name': 'Super Soft Hoodie', 'monthly_sales': 1875.0},\n",
       " {'name': 'Khaki Pants', 'monthly_sales': 1602.0},\n",
       " {'name': 'Vintage Logo Tee', 'monthly_sales': 941.0500000000001},\n",
       " {'name': 'Brown Boots', 'monthly_sales': 250.0},\n",
       " {'name': 'Sticker Pack', 'monthly_sales': 216.0},\n",
       " {'name': 'Baseball Cap', 'monthly_sales': 156.31}]"
      ]
     },
     "execution_count": 16,
     "metadata": {},
     "output_type": "execute_result"
    }
   ],
   "source": [
    "top_sellers"
   ]
  },
  {
   "cell_type": "code",
   "execution_count": 17,
   "metadata": {},
   "outputs": [
    {
     "data": {
      "text/html": [
       "<div>\n",
       "<style scoped>\n",
       "    .dataframe tbody tr th:only-of-type {\n",
       "        vertical-align: middle;\n",
       "    }\n",
       "\n",
       "    .dataframe tbody tr th {\n",
       "        vertical-align: top;\n",
       "    }\n",
       "\n",
       "    .dataframe thead th {\n",
       "        text-align: right;\n",
       "    }\n",
       "</style>\n",
       "<table border=\"1\" class=\"dataframe\">\n",
       "  <thead>\n",
       "    <tr style=\"text-align: right;\">\n",
       "      <th></th>\n",
       "      <th>date</th>\n",
       "      <th>product</th>\n",
       "      <th>unit price</th>\n",
       "      <th>units sold</th>\n",
       "      <th>sales price</th>\n",
       "    </tr>\n",
       "  </thead>\n",
       "  <tbody>\n",
       "    <tr>\n",
       "      <th>5</th>\n",
       "      <td>2018-03-02</td>\n",
       "      <td>Baseball Cap</td>\n",
       "      <td>22.33</td>\n",
       "      <td>1</td>\n",
       "      <td>22.33</td>\n",
       "    </tr>\n",
       "    <tr>\n",
       "      <th>10</th>\n",
       "      <td>2018-03-03</td>\n",
       "      <td>Baseball Cap</td>\n",
       "      <td>22.33</td>\n",
       "      <td>1</td>\n",
       "      <td>22.33</td>\n",
       "    </tr>\n",
       "    <tr>\n",
       "      <th>13</th>\n",
       "      <td>2018-03-04</td>\n",
       "      <td>Baseball Cap</td>\n",
       "      <td>22.33</td>\n",
       "      <td>1</td>\n",
       "      <td>22.33</td>\n",
       "    </tr>\n",
       "    <tr>\n",
       "      <th>31</th>\n",
       "      <td>2018-03-09</td>\n",
       "      <td>Baseball Cap</td>\n",
       "      <td>22.33</td>\n",
       "      <td>1</td>\n",
       "      <td>22.33</td>\n",
       "    </tr>\n",
       "    <tr>\n",
       "      <th>41</th>\n",
       "      <td>2018-03-11</td>\n",
       "      <td>Baseball Cap</td>\n",
       "      <td>22.33</td>\n",
       "      <td>1</td>\n",
       "      <td>22.33</td>\n",
       "    </tr>\n",
       "    <tr>\n",
       "      <th>61</th>\n",
       "      <td>2018-03-17</td>\n",
       "      <td>Baseball Cap</td>\n",
       "      <td>22.33</td>\n",
       "      <td>1</td>\n",
       "      <td>22.33</td>\n",
       "    </tr>\n",
       "    <tr>\n",
       "      <th>110</th>\n",
       "      <td>2018-03-30</td>\n",
       "      <td>Baseball Cap</td>\n",
       "      <td>22.33</td>\n",
       "      <td>1</td>\n",
       "      <td>22.33</td>\n",
       "    </tr>\n",
       "  </tbody>\n",
       "</table>\n",
       "</div>"
      ],
      "text/plain": [
       "           date       product  unit price  units sold  sales price\n",
       "5    2018-03-02  Baseball Cap       22.33           1        22.33\n",
       "10   2018-03-03  Baseball Cap       22.33           1        22.33\n",
       "13   2018-03-04  Baseball Cap       22.33           1        22.33\n",
       "31   2018-03-09  Baseball Cap       22.33           1        22.33\n",
       "41   2018-03-11  Baseball Cap       22.33           1        22.33\n",
       "61   2018-03-17  Baseball Cap       22.33           1        22.33\n",
       "110  2018-03-30  Baseball Cap       22.33           1        22.33"
      ]
     },
     "execution_count": 17,
     "metadata": {},
     "output_type": "execute_result"
    }
   ],
   "source": [
    "csv_data[csv_data['product']=='Baseball Cap']"
   ]
  },
  {
   "cell_type": "code",
   "execution_count": 20,
   "metadata": {},
   "outputs": [
    {
     "name": "stdout",
     "output_type": "stream",
     "text": [
      "  1) Button-Down Shirt: $6,960.35\n",
      "  2) Super Soft Hoodie: $1,875.00\n",
      "  3) Khaki Pants: $1,602.00\n",
      "  4) Vintage Logo Tee: $941.05\n",
      "  5) Brown Boots: $250.00\n",
      "  6) Sticker Pack: $216.00\n",
      "  7) Baseball Cap: $156.31\n"
     ]
    }
   ],
   "source": [
    "rank = 1\n",
    "for d in top_sellers:\n",
    "    print(\"  \" + str(rank)+ \") \" + d[\"name\"]+ \": \" + to_usd(d[\"monthly_sales\"]))\n",
    "    rank = rank + 1"
   ]
  },
  {
   "cell_type": "code",
   "execution_count": 19,
   "metadata": {},
   "outputs": [],
   "source": [
    "\n",
    "def to_usd(my_price):\n",
    "    return f\"${my_price:,.2f}\""
   ]
  },
  {
   "cell_type": "code",
   "execution_count": null,
   "metadata": {},
   "outputs": [],
   "source": []
  }
 ],
 "metadata": {
  "kernelspec": {
   "display_name": "Python 3",
   "language": "python",
   "name": "python3"
  },
  "language_info": {
   "codemirror_mode": {
    "name": "ipython",
    "version": 3
   },
   "file_extension": ".py",
   "mimetype": "text/x-python",
   "name": "python",
   "nbconvert_exporter": "python",
   "pygments_lexer": "ipython3",
   "version": "3.7.1"
  }
 },
 "nbformat": 4,
 "nbformat_minor": 2
}
